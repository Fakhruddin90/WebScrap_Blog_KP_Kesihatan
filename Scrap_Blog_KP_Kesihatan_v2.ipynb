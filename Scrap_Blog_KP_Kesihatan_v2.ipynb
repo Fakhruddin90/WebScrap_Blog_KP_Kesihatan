{
  "nbformat": 4,
  "nbformat_minor": 0,
  "metadata": {
    "colab": {
      "name": "Scrap Blog KP Kesihatan v2.ipynb",
      "provenance": [],
      "collapsed_sections": []
    },
    "kernelspec": {
      "name": "python3",
      "display_name": "Python 3"
    }
  },
  "cells": [
    {
      "cell_type": "markdown",
      "metadata": {
        "id": "FddgB65dbHqk"
      },
      "source": [
        "# Menjana fail CSV dari Blog KP Kesihatan\r\n",
        "\r\n",
        "Kod ini menjana senarai kematian akibat COVID-19 dari 20 Mac 2020 sehingga hari ini.\r\n",
        "\r\n",
        "*Nota: bermula 20 Mac 2020, URL Blog KP Kesihatan menggunakan format yang sama.*"
      ]
    },
    {
      "cell_type": "code",
      "metadata": {
        "id": "LpqidZMfTi-f"
      },
      "source": [
        "import requests\r\n",
        "from bs4 import BeautifulSoup\r\n",
        "from datetime import datetime, timedelta\r\n",
        "import csv"
      ],
      "execution_count": 7,
      "outputs": []
    },
    {
      "cell_type": "code",
      "metadata": {
        "id": "5LUdyM5LXgF8"
      },
      "source": [
        "# define month name in bahasa Malaysia\r\n",
        "months_name = {\r\n",
        "    1: 'januari',\r\n",
        "    2: 'februari',\r\n",
        "    3: 'mac',\r\n",
        "    4: 'april',\r\n",
        "    5: 'mei',\r\n",
        "    6: 'jun',\r\n",
        "    7: 'julai',\r\n",
        "    8: 'ogos',\r\n",
        "    9: 'september',\r\n",
        "    10: 'oktober',\r\n",
        "    11: 'november',\r\n",
        "    12: 'disember'\r\n",
        "}\r\n"
      ],
      "execution_count": 8,
      "outputs": []
    },
    {
      "cell_type": "code",
      "metadata": {
        "id": "RF9xRcwsSlcQ"
      },
      "source": [
        "def generate_csv(rows, filepath):\r\n",
        "  with open(filepath, mode='w') as file:\r\n",
        "    writer = csv.writer(file, delimiter=',', quotechar='\"', quoting=csv.QUOTE_MINIMAL)\r\n",
        "\r\n",
        "    for row in rows:\r\n",
        "      arr = []\r\n",
        "      columns = row.findAll('td')\r\n",
        "      for column in columns:\r\n",
        "        arr.append(column.text)\r\n",
        "      writer.writerow(arr)"
      ],
      "execution_count": 9,
      "outputs": []
    },
    {
      "cell_type": "markdown",
      "metadata": {
        "id": "87ppVZpbVIGA"
      },
      "source": [
        "**SILA UBAH DIREKTORI FOLDER MENGIKUT NAMA FOLDER DI GOOGLE DRIVE ANDA**"
      ]
    },
    {
      "cell_type": "code",
      "metadata": {
        "id": "W2c75Nl4KGr9"
      },
      "source": [
        "def scrap_by_date(index_no, day, month, year):\r\n",
        "  URL = f\"https://kpkesihatan.com/{year}/{month}/{day}/kenyataan-akhbar-kpk-{day}-{months_name[month]}-{year}-situasi-semasa-jangkitan-penyakit-coronavirus-2019-covid-19-di-malaysia\"\r\n",
        "  # get request\r\n",
        "  response = requests.get(URL)\r\n",
        "  if response.status_code == 200:\r\n",
        "    html_text = response.text\r\n",
        "\r\n",
        "    # scrap all tables\r\n",
        "    soup = BeautifulSoup(html_text)\r\n",
        "    tables = soup.findAll('table')\r\n",
        "\r\n",
        "    # get table of covid death\r\n",
        "    selected_table = ''\r\n",
        "\r\n",
        "    for table in tables:\r\n",
        "      rows = table.findAll('tr')\r\n",
        "      for row in rows:\r\n",
        "        columns = row.findAll('td')\r\n",
        "        for column in columns:\r\n",
        "          if 'Kes kematian' in column.text or 'No. Kematian' in column.text:\r\n",
        "            selected_table = table\r\n",
        "          \r\n",
        "\r\n",
        "    # generate file\r\n",
        "    if selected_table != '':\r\n",
        "      rows = selected_table.findAll('tr')\r\n",
        "      # PLEASE CHANGE TO YOUR OWN GOOGLE DRIVE FOLDER PATH\r\n",
        "      filepath = f'/content/drive/MyDrive/Data Covid/{index_no} data kematian covid {day}-{month}-{year}.csv'\r\n",
        "      generate_csv(rows, filepath)\r\n",
        "      \r\n",
        "    else:\r\n",
        "            print(f'No death report on this date: {day}/{month}/{year}')\r\n",
        "  else:\r\n",
        "    print('Unable to connect to URL')"
      ],
      "execution_count": 15,
      "outputs": []
    },
    {
      "cell_type": "markdown",
      "metadata": {
        "id": "JG57PEfjVbhy"
      },
      "source": [
        "Kod di cell ini akan menjana fail csv dari tarikh mula hingga ke hari ini"
      ]
    },
    {
      "cell_type": "code",
      "metadata": {
        "colab": {
          "base_uri": "https://localhost:8080/"
        },
        "id": "R9PwqcS7NKP7",
        "outputId": "7ca081ed-1e84-43ab-c7fc-bd0416b0bff7"
      },
      "source": [
        "# starting day & month & year\r\n",
        "start_day = 20\r\n",
        "start_month = 3\r\n",
        "start_year = 2020\r\n",
        "\r\n",
        "# today's day & month & year\r\n",
        "year = datetime.now().year\r\n",
        "month = datetime.now().month\r\n",
        "day = datetime.now().day\r\n",
        "\r\n",
        "# generate datetime objects\r\n",
        "sdate = datetime(start_year, start_month, start_day)   \r\n",
        "edate = datetime(year, month, day)  \r\n",
        "\r\n",
        "# generate date from start to end date\r\n",
        "delta = edate - sdate\r\n",
        "\r\n",
        "for i in range(delta.days + 1):\r\n",
        "    d = sdate + timedelta(days=i)\r\n",
        "    # generate bulk csv files\r\n",
        "    scrap_by_date(i, d.day, d.month,  d.year)\r\n"
      ],
      "execution_count": 16,
      "outputs": [
        {
          "output_type": "stream",
          "text": [
            "No death report on this date: 20/3/2020\n",
            "No death report on this date: 21/3/2020\n",
            "No death report on this date: 22/3/2020\n",
            "No death report on this date: 23/3/2020\n",
            "No death report on this date: 24/3/2020\n",
            "No death report on this date: 25/3/2020\n",
            "No death report on this date: 26/3/2020\n",
            "No death report on this date: 27/3/2020\n",
            "No death report on this date: 28/3/2020\n",
            "No death report on this date: 29/3/2020\n",
            "No death report on this date: 30/3/2020\n",
            "No death report on this date: 31/3/2020\n",
            "No death report on this date: 1/4/2020\n",
            "No death report on this date: 2/4/2020\n",
            "No death report on this date: 3/4/2020\n",
            "No death report on this date: 4/4/2020\n",
            "No death report on this date: 5/4/2020\n",
            "No death report on this date: 6/4/2020\n",
            "No death report on this date: 7/4/2020\n",
            "No death report on this date: 8/4/2020\n",
            "No death report on this date: 9/4/2020\n",
            "No death report on this date: 10/4/2020\n",
            "No death report on this date: 11/4/2020\n",
            "No death report on this date: 12/4/2020\n",
            "No death report on this date: 13/4/2020\n",
            "No death report on this date: 14/4/2020\n",
            "No death report on this date: 15/4/2020\n",
            "Unable to connect to URL\n",
            "No death report on this date: 17/4/2020\n",
            "No death report on this date: 18/4/2020\n",
            "No death report on this date: 19/4/2020\n",
            "No death report on this date: 20/4/2020\n",
            "No death report on this date: 21/4/2020\n",
            "No death report on this date: 22/4/2020\n",
            "No death report on this date: 23/4/2020\n",
            "No death report on this date: 24/4/2020\n",
            "No death report on this date: 25/4/2020\n",
            "No death report on this date: 26/4/2020\n",
            "No death report on this date: 27/4/2020\n",
            "No death report on this date: 28/4/2020\n",
            "No death report on this date: 29/4/2020\n",
            "No death report on this date: 30/4/2020\n",
            "No death report on this date: 1/5/2020\n",
            "No death report on this date: 2/5/2020\n",
            "No death report on this date: 3/5/2020\n",
            "No death report on this date: 4/5/2020\n",
            "No death report on this date: 5/5/2020\n",
            "No death report on this date: 6/5/2020\n",
            "No death report on this date: 7/5/2020\n",
            "No death report on this date: 8/5/2020\n",
            "No death report on this date: 9/5/2020\n",
            "No death report on this date: 10/5/2020\n",
            "No death report on this date: 11/5/2020\n",
            "No death report on this date: 12/5/2020\n",
            "Unable to connect to URL\n",
            "No death report on this date: 14/5/2020\n",
            "No death report on this date: 15/5/2020\n",
            "No death report on this date: 16/5/2020\n",
            "No death report on this date: 17/5/2020\n",
            "No death report on this date: 18/5/2020\n",
            "No death report on this date: 19/5/2020\n",
            "No death report on this date: 20/5/2020\n",
            "No death report on this date: 21/5/2020\n",
            "No death report on this date: 22/5/2020\n",
            "No death report on this date: 23/5/2020\n",
            "No death report on this date: 24/5/2020\n",
            "No death report on this date: 25/5/2020\n",
            "No death report on this date: 26/5/2020\n",
            "No death report on this date: 27/5/2020\n",
            "Unable to connect to URL\n",
            "No death report on this date: 29/5/2020\n",
            "No death report on this date: 30/5/2020\n",
            "No death report on this date: 31/5/2020\n",
            "No death report on this date: 1/6/2020\n",
            "No death report on this date: 2/6/2020\n",
            "No death report on this date: 3/6/2020\n",
            "No death report on this date: 4/6/2020\n",
            "No death report on this date: 5/6/2020\n",
            "No death report on this date: 6/6/2020\n",
            "No death report on this date: 7/6/2020\n",
            "No death report on this date: 8/6/2020\n",
            "No death report on this date: 9/6/2020\n",
            "No death report on this date: 10/6/2020\n",
            "No death report on this date: 11/6/2020\n",
            "No death report on this date: 12/6/2020\n",
            "No death report on this date: 13/6/2020\n",
            "No death report on this date: 14/6/2020\n",
            "No death report on this date: 15/6/2020\n",
            "No death report on this date: 16/6/2020\n",
            "No death report on this date: 17/6/2020\n",
            "Unable to connect to URL\n",
            "No death report on this date: 19/6/2020\n",
            "No death report on this date: 20/6/2020\n",
            "No death report on this date: 21/6/2020\n",
            "No death report on this date: 22/6/2020\n",
            "No death report on this date: 23/6/2020\n",
            "No death report on this date: 24/6/2020\n",
            "No death report on this date: 25/6/2020\n",
            "No death report on this date: 26/6/2020\n",
            "No death report on this date: 27/6/2020\n",
            "No death report on this date: 28/6/2020\n",
            "No death report on this date: 29/6/2020\n",
            "No death report on this date: 30/6/2020\n",
            "No death report on this date: 1/7/2020\n",
            "No death report on this date: 2/7/2020\n",
            "No death report on this date: 3/7/2020\n",
            "No death report on this date: 4/7/2020\n",
            "No death report on this date: 5/7/2020\n",
            "No death report on this date: 6/7/2020\n",
            "No death report on this date: 7/7/2020\n",
            "No death report on this date: 8/7/2020\n",
            "No death report on this date: 9/7/2020\n",
            "No death report on this date: 10/7/2020\n",
            "No death report on this date: 11/7/2020\n",
            "No death report on this date: 12/7/2020\n",
            "No death report on this date: 13/7/2020\n",
            "No death report on this date: 14/7/2020\n",
            "No death report on this date: 15/7/2020\n",
            "Unable to connect to URL\n",
            "No death report on this date: 17/7/2020\n",
            "No death report on this date: 18/7/2020\n",
            "No death report on this date: 19/7/2020\n",
            "No death report on this date: 20/7/2020\n",
            "No death report on this date: 21/7/2020\n",
            "No death report on this date: 22/7/2020\n",
            "No death report on this date: 23/7/2020\n",
            "No death report on this date: 24/7/2020\n",
            "No death report on this date: 25/7/2020\n",
            "Unable to connect to URL\n",
            "No death report on this date: 27/7/2020\n",
            "No death report on this date: 28/7/2020\n",
            "No death report on this date: 29/7/2020\n",
            "No death report on this date: 30/7/2020\n",
            "No death report on this date: 31/7/2020\n",
            "No death report on this date: 1/8/2020\n",
            "No death report on this date: 2/8/2020\n",
            "No death report on this date: 3/8/2020\n",
            "No death report on this date: 4/8/2020\n",
            "No death report on this date: 5/8/2020\n",
            "No death report on this date: 6/8/2020\n",
            "No death report on this date: 7/8/2020\n",
            "No death report on this date: 8/8/2020\n",
            "No death report on this date: 9/8/2020\n",
            "No death report on this date: 10/8/2020\n",
            "No death report on this date: 11/8/2020\n",
            "No death report on this date: 12/8/2020\n",
            "No death report on this date: 13/8/2020\n",
            "No death report on this date: 14/8/2020\n",
            "No death report on this date: 15/8/2020\n",
            "No death report on this date: 16/8/2020\n",
            "No death report on this date: 17/8/2020\n",
            "No death report on this date: 18/8/2020\n",
            "No death report on this date: 19/8/2020\n",
            "No death report on this date: 20/8/2020\n",
            "No death report on this date: 21/8/2020\n",
            "No death report on this date: 22/8/2020\n",
            "No death report on this date: 23/8/2020\n",
            "No death report on this date: 24/8/2020\n",
            "No death report on this date: 25/8/2020\n",
            "No death report on this date: 26/8/2020\n",
            "No death report on this date: 27/8/2020\n",
            "No death report on this date: 28/8/2020\n",
            "No death report on this date: 29/8/2020\n",
            "No death report on this date: 30/8/2020\n",
            "No death report on this date: 31/8/2020\n",
            "No death report on this date: 1/9/2020\n",
            "No death report on this date: 2/9/2020\n",
            "No death report on this date: 3/9/2020\n",
            "No death report on this date: 4/9/2020\n",
            "No death report on this date: 5/9/2020\n",
            "No death report on this date: 6/9/2020\n",
            "No death report on this date: 7/9/2020\n",
            "No death report on this date: 8/9/2020\n",
            "No death report on this date: 9/9/2020\n",
            "No death report on this date: 10/9/2020\n",
            "No death report on this date: 11/9/2020\n",
            "No death report on this date: 12/9/2020\n",
            "No death report on this date: 13/9/2020\n",
            "No death report on this date: 14/9/2020\n",
            "No death report on this date: 15/9/2020\n",
            "No death report on this date: 16/9/2020\n",
            "No death report on this date: 17/9/2020\n",
            "No death report on this date: 18/9/2020\n",
            "No death report on this date: 19/9/2020\n",
            "No death report on this date: 20/9/2020\n",
            "No death report on this date: 21/9/2020\n",
            "No death report on this date: 22/9/2020\n",
            "No death report on this date: 23/9/2020\n",
            "No death report on this date: 24/9/2020\n",
            "No death report on this date: 25/9/2020\n",
            "No death report on this date: 26/9/2020\n",
            "No death report on this date: 27/9/2020\n",
            "No death report on this date: 28/9/2020\n",
            "No death report on this date: 29/9/2020\n",
            "No death report on this date: 30/9/2020\n",
            "No death report on this date: 1/10/2020\n",
            "No death report on this date: 2/10/2020\n",
            "No death report on this date: 3/10/2020\n",
            "No death report on this date: 4/10/2020\n",
            "No death report on this date: 5/10/2020\n",
            "No death report on this date: 6/10/2020\n",
            "No death report on this date: 7/10/2020\n",
            "No death report on this date: 22/10/2020\n",
            "No death report on this date: 29/10/2020\n",
            "No death report on this date: 31/10/2020\n",
            "No death report on this date: 1/11/2020\n",
            "No death report on this date: 4/12/2020\n",
            "Unable to connect to URL\n",
            "No death report on this date: 18/12/2020\n",
            "Unable to connect to URL\n"
          ],
          "name": "stdout"
        }
      ]
    },
    {
      "cell_type": "markdown",
      "metadata": {
        "id": "dEQs6kLDVjew"
      },
      "source": [
        "Jika ingin fail csv untuk hari ini sahaja, 'run' kod di bawah"
      ]
    },
    {
      "cell_type": "code",
      "metadata": {
        "id": "S5k7DG6aViyw",
        "colab": {
          "base_uri": "https://localhost:8080/"
        },
        "outputId": "abcbe1c2-a353-4253-9965-cf4a6f6702a4"
      },
      "source": [
        "scrap_by_date(0, day, month,  year)"
      ],
      "execution_count": 12,
      "outputs": [
        {
          "output_type": "stream",
          "text": [
            "Unable to connect to URL\n"
          ],
          "name": "stdout"
        }
      ]
    }
  ]
}