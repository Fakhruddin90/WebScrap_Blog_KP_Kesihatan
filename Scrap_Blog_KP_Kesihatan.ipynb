{
  "nbformat": 4,
  "nbformat_minor": 0,
  "metadata": {
    "colab": {
      "name": "Scrap Blog KP Kesihatan.ipynb",
      "provenance": []
    },
    "kernelspec": {
      "name": "python3",
      "display_name": "Python 3"
    }
  },
  "cells": [
    {
      "cell_type": "markdown",
      "metadata": {
        "id": "FddgB65dbHqk"
      },
      "source": [
        "# Menjana fail CSV dari Blog KP Kesihatan\r\n",
        "\r\n",
        "Kod ini menjana senarai kluster baharu sepanjang 21 sehingga 28 Januari 2021."
      ]
    },
    {
      "cell_type": "code",
      "metadata": {
        "id": "LpqidZMfTi-f"
      },
      "source": [
        "import requests\r\n",
        "from bs4 import BeautifulSoup"
      ],
      "execution_count": null,
      "outputs": []
    },
    {
      "cell_type": "code",
      "metadata": {
        "colab": {
          "base_uri": "https://localhost:8080/"
        },
        "id": "Mb2Z7Lz-YM9d",
        "outputId": "45d985ad-6dc5-4603-b93c-6f1736862d09"
      },
      "source": [
        "list_urls = [f\"https://kpkesihatan.com/2021/01/{i}/kenyataan-akhbar-kpk-{i}-januari-2021-situasi-semasa-jangkitan-penyakit-coronavirus-2019-covid-19-di-malaysia/\" for i in range (21,29)]\r\n",
        "print(list_urls)"
      ],
      "execution_count": 25,
      "outputs": [
        {
          "output_type": "stream",
          "text": [
            "['https://kpkesihatan.com/2021/01/21/kenyataan-akhbar-kpk-21-januari-2021-situasi-semasa-jangkitan-penyakit-coronavirus-2019-covid-19-di-malaysia/', 'https://kpkesihatan.com/2021/01/22/kenyataan-akhbar-kpk-22-januari-2021-situasi-semasa-jangkitan-penyakit-coronavirus-2019-covid-19-di-malaysia/', 'https://kpkesihatan.com/2021/01/23/kenyataan-akhbar-kpk-23-januari-2021-situasi-semasa-jangkitan-penyakit-coronavirus-2019-covid-19-di-malaysia/', 'https://kpkesihatan.com/2021/01/24/kenyataan-akhbar-kpk-24-januari-2021-situasi-semasa-jangkitan-penyakit-coronavirus-2019-covid-19-di-malaysia/', 'https://kpkesihatan.com/2021/01/25/kenyataan-akhbar-kpk-25-januari-2021-situasi-semasa-jangkitan-penyakit-coronavirus-2019-covid-19-di-malaysia/', 'https://kpkesihatan.com/2021/01/26/kenyataan-akhbar-kpk-26-januari-2021-situasi-semasa-jangkitan-penyakit-coronavirus-2019-covid-19-di-malaysia/', 'https://kpkesihatan.com/2021/01/27/kenyataan-akhbar-kpk-27-januari-2021-situasi-semasa-jangkitan-penyakit-coronavirus-2019-covid-19-di-malaysia/', 'https://kpkesihatan.com/2021/01/28/kenyataan-akhbar-kpk-28-januari-2021-situasi-semasa-jangkitan-penyakit-coronavirus-2019-covid-19-di-malaysia/']\n"
          ],
          "name": "stdout"
        }
      ]
    },
    {
      "cell_type": "code",
      "metadata": {
        "colab": {
          "base_uri": "https://localhost:8080/"
        },
        "id": "u7TALD42aR7X",
        "outputId": "11f2230d-980e-4832-9544-0328277ea623"
      },
      "source": [
        "for url in list_urls:\r\n",
        "  response = requests.get(url)\r\n",
        "  soup = BeautifulSoup(response.text)\r\n",
        "  rows = soup.find('table').find('tbody').findAll('tr')\r\n",
        "  print(rows)"
      ],
      "execution_count": 26,
      "outputs": [
        {
          "output_type": "stream",
          "text": [
            "[<tr><td><strong>No</strong></td><td><strong>Nama Kluster</strong></td><td><strong>Negeri</strong></td><td><strong>Kategori Kluster</strong></td></tr>, <tr><td>1</td><td>Jalan Terolak</td><td>WP Kuala Lumpur</td><td>Tempat kerja</td></tr>, <tr><td>2</td><td>Kota Muhibbah</td><td>Perak</td><td>Tempat kerja</td></tr>, <tr><td>3</td><td>Silimpopon</td><td>Sabah</td><td>Tempat kerja</td></tr>, <tr><td>4</td><td>Seri Bayu</td><td>Johor</td><td>Tempat Kerja</td></tr>, <tr><td>5</td><td>Ladang Sebrang</td><td>Sabah</td><td>Tempat kerja</td></tr>, <tr><td>6</td><td>Orion</td><td>Kedah</td><td>Tempat kerja</td></tr>, <tr><td>7</td><td>Tampoi Tujuh</td><td>Johor</td><td>Tempat kerja</td></tr>, <tr><td>8</td><td>Jalan Sempadan</td><td>Johor</td><td>Tempat kerja</td></tr>, <tr><td>9</td><td>Jalan Slim</td><td>Perak</td><td>Tempat kerja</td></tr>, <tr><td>10</td><td>Pasar Borong KL 2</td><td>WP Kuala Lumpur</td><td>Tempat kerja</td></tr>, <tr><td>11</td><td>Jalan Canang Emas</td><td>Selangor</td><td>Tempat kerja</td></tr>, <tr><td>12</td><td>Taman Sejahtera</td><td>Perak</td><td>Keagamaan</td></tr>, <tr><td>13</td><td>Mandin Jaya</td><td>Pulau Pinang</td><td>Kumpulan berisiko</td></tr>, <tr><td>14</td><td>Jalan Kelapa</td><td>Selangor</td><td>Kumpulan berisiko</td></tr>, <tr><td>15</td><td>Kampung Tanah Merah</td><td>Terengganu</td><td>Komuniti</td></tr>, <tr><td>16</td><td>Gunung Raya</td><td>Kedah</td><td>Komuniti</td></tr>]\n",
            "[<tr><td><strong>No</strong></td><td><strong>Nama Kluster</strong></td><td><strong>Negeri</strong></td><td><strong>Kategori Kluster</strong></td></tr>, <tr><td>1</td><td>Jalan Indah Gemilang</td><td>Johor</td><td>Tempat kerja</td></tr>, <tr><td>2</td><td>Jalan Perwira</td><td>Johor</td><td>Tempat kerja</td></tr>, <tr><td>3</td><td>Selasih Perindu</td><td>Johor</td><td>Tempat kerja</td></tr>, <tr><td>4</td><td>Jalan Sungai Chandong</td><td>Selangor</td><td>Tempat kerja</td></tr>, <tr><td>5</td><td>Jalan Kinabenua</td><td>WP Labuan</td><td>Tempat kerja</td></tr>, <tr><td>6</td><td>Ladang Desa Jerocco</td><td>Sabah</td><td>Tempat kerja</td></tr>, <tr><td>7</td><td>Kampung Paya Siput</td><td>Pahang</td><td>Tempat kerja</td></tr>, <tr><td>8</td><td>Serkam Tengah</td><td>Melaka</td><td>Komuniti</td></tr>, <tr><td>9</td><td>Tanjung Lumpur</td><td>Pahang</td><td>Komuniti</td></tr>, <tr><td>10</td><td>Tembok Renggam</td><td>Johor</td><td>Tahanan</td></tr>, <tr><td>11</td><td>Putra Tujuh</td><td>WP Putrajaya dan Selangor</td><td>Kumpulan Berisiko</td></tr>, <tr><td>12</td><td>Jalan Skudai</td><td>Johor</td><td>Kumpulan Berisiko</td></tr>]\n",
            "[<tr><td><strong>No</strong></td><td><strong>Nama Kluster</strong><strong></strong></td><td><strong>Negeri</strong><strong></strong></td><td><strong>Kategori Kluster</strong></td></tr>, <tr><td>1</td><td> Tapak Bina Bali Residence</td><td>Melaka</td><td>Tempat kerja</td></tr>, <tr><td>2</td><td>Tapak Bina Jalan Wangsa</td><td>WP Kuala Lumpur</td><td>Tempat kerja</td></tr>, <tr><td>3</td><td>Jalan Timah Dua</td><td>Johor</td><td>Tempat kerja</td></tr>, <tr><td>4</td><td>Persiaran Tanjung</td><td>Johor Bahru</td><td>Tempat kerja</td></tr>, <tr><td>5</td><td>Kilang Setapak</td><td>Sabah</td><td>Tempat Kerja</td></tr>, <tr><td>6</td><td>Jalan Canggih</td><td>Johor Bahru</td><td>Tempat kerja</td></tr>, <tr><td>7</td><td>Tapak Bina Lebuh Puteri</td><td>Selangor</td><td>Tempat kerja</td></tr>, <tr><td>8</td><td>Kampung Bombalai</td><td>Sabah</td><td>Tempat kerja</td></tr>, <tr><td>9</td><td>Kampung Guntong Luar</td><td>Terengganu</td><td>Komuniti</td></tr>, <tr><td>10</td><td>Kampung Bukit Biah</td><td>Terengganu</td><td>Keagamaan</td></tr>, <tr><td>11</td><td>Tembok Sungai Udang</td><td>Melaka</td><td>Pusat Tahanan</td></tr>]\n",
            "[<tr><td><strong>No</strong></td><td><strong>Nama Kluster</strong><strong></strong></td><td><strong>Negeri</strong><strong></strong></td><td><strong>Kategori Kluster</strong></td></tr>, <tr><td>1</td><td>Ladang Segama</td><td>Sabah</td><td>Tempat Kerja</td></tr>, <tr><td>2</td><td>Jalan Segama</td><td>Sabah</td><td>Tempat Kerja</td></tr>, <tr><td>3</td><td>Keluli Tujuh</td><td>Johor</td><td>Tempat Kerja</td></tr>, <tr><td>4</td><td>Jalan Tengar</td><td>Johor</td><td>Tempat Kerja</td></tr>, <tr><td>5</td><td>Jalan Sebelas</td><td>Selangor</td><td>Tempat Kerja</td></tr>, <tr><td>6</td><td>Tapak Bina Sri Petaling</td><td>WP Kuala Lumpur</td><td>Tempat Kerja</td></tr>, <tr><td>7</td><td>Bukit Emas</td><td>Negeri Sembilan</td><td>Tempat Kerja</td></tr>, <tr><td>8</td><td>Tapak Bina Flora</td><td>WP Putrajaya</td><td>Tempat Kerja</td></tr>, <tr><td>9</td><td>Tembok Taiping</td><td>Perak</td><td>Pusat Tahanan</td></tr>]\n",
            "[<tr><td><strong>No</strong></td><td><strong>Nama Kluster</strong><strong></strong></td><td><strong>Negeri</strong><strong></strong></td><td><strong>Kategori Kluster</strong><strong></strong></td></tr>, <tr><td>1</td><td>Sri Muda</td><td>Selangor</td><td>Tempat kerja</td></tr>, <tr><td>2</td><td>Sungai Chemubong</td><td>Selangor</td><td>Tempat kerja</td></tr>, <tr><td>3</td><td>Jalan Waja</td><td>Selangor</td><td>Tempat kerja</td></tr>, <tr><td>4</td><td>Jalan Indah</td><td>Johor</td><td>Tempat kerja</td></tr>, <tr><td>5</td><td>Jalan Firma Tiga</td><td>Johor</td><td>Tempat kerja</td></tr>, <tr><td>6</td><td>Industri Apas</td><td>Sabah</td><td>Tempat kerja</td></tr>, <tr><td>7</td><td>Jalan Kerinchi</td><td>WP Kuala Lumpur</td><td>Tempat kerja</td></tr>, <tr><td>8</td><td>Kampung Tualang</td><td>Terengganu</td><td>Tempat kerja</td></tr>, <tr><td>9</td><td>Kampung Muhibbah</td><td>Johor</td><td>Komuniti</td></tr>, <tr><td>10</td><td>Taman Bahagia</td><td>Pahang</td><td>Komuniti</td></tr>, <tr><td>11</td><td>Kampung Bukit Lada</td><td>Pahang</td><td>Komuniti</td></tr>, <tr><td>12</td><td>Bukit Palah</td><td>Melaka</td><td>Kumpulan berisiko</td></tr>, <tr><td>13</td><td>Kampung Pahi</td><td>Kelantan</td><td>Kumpulan berisiko</td></tr>]\n",
            "[<tr><td><strong>No</strong></td><td><strong>Nama Kluster</strong><strong></strong></td><td><strong>Negeri</strong><strong></strong></td><td><strong>Kategori Kluster</strong><strong></strong></td></tr>, <tr><td>1</td><td>Jalan Cochrane</td><td>WP Kuala Lumpur</td><td>Tempat kerja</td></tr>, <tr><td>2</td><td>Jalan Platinum</td><td>Johor</td><td>Tempat kerja</td></tr>, <tr><td>3</td><td>Intan Delima</td><td>Negeri Sembilan</td><td>Tempat kerja</td></tr>, <tr><td>4</td><td>Jalan Padi Mahsuri</td><td>Johor</td><td>Komuniti</td></tr>, <tr><td>5</td><td>Kampung Bukit Putera</td><td>Terengganu</td><td>Komuniti</td></tr>, <tr><td>6</td><td>Keladi Saga</td><td>Kedah</td><td>Keagamaan</td></tr>, <tr><td>7</td><td>Tembok Bukit Besi</td><td>Terengganu</td><td>Pusat tahanan</td></tr>]\n",
            "[<tr><td><strong>No</strong></td><td><strong>Nama Kluster</strong><strong></strong></td><td><strong>Negeri</strong><strong></strong></td><td><strong>Kategori Kluster</strong><strong></strong></td></tr>, <tr><td>1</td><td>Parit Lanjut</td><td>Johor</td><td>Tempat kerja</td></tr>, <tr><td>2</td><td>Industri Grisek</td><td>Johor</td><td>Tempat kerja</td></tr>, <tr><td>3</td><td>Jalan Trus</td><td>Johor</td><td>Tempat kerja</td></tr>, <tr><td>4</td><td>Jalan Medini</td><td>Johor</td><td>Tempat kerja</td></tr>, <tr><td>5</td><td>Tengah Tiga</td><td>Johor</td><td>Tempat kerja</td></tr>, <tr><td>6</td><td>Pengerang Utara</td><td>Johor</td><td>Tempat kerja</td></tr>, <tr><td>7</td><td>Tapak Bina Persiaran Tecoma</td><td>WP Kuala Lumpur</td><td>Tempat kerja</td></tr>, <tr><td>8</td><td>Jalan Danau</td><td>WP Kuala Lumpur</td><td>Tempat kerja</td></tr>, <tr><td>9</td><td>Jalan Yahya</td><td>WP Kuala Lumpur</td><td>Tempat kerja</td></tr>, <tr><td>10</td><td>Jalan Pudu</td><td>WP Kuala Lumpur</td><td>Tempat kerja</td></tr>, <tr><td>11</td><td>Jalan Mutiara</td><td>Selangor</td><td>Tempat kerja</td></tr>, <tr><td>12</td><td>Tapak Bina Tanjung</td><td>Selangor</td><td>Tempat kerja</td></tr>, <tr><td>13</td><td>Persiaran Perkilangan</td><td>Selangor</td><td>Tempat kerja</td></tr>, <tr><td>14</td><td>Jalan Sulaman</td><td>Sabah</td><td>Tempat kerja</td></tr>, <tr><td>15</td><td>Jalan Seri</td><td>Perak</td><td>Tempat kerja</td></tr>, <tr><td>16</td><td>Bendayan</td><td>Sarawak</td><td>Komuniti</td></tr>, <tr><td>17</td><td>Jalan Pengkalan</td><td>Perak</td><td>Komuniti</td></tr>]\n",
            "[<tr><td><strong>No</strong></td><td><strong>Nama Kluster</strong><strong></strong></td><td><strong>Negeri</strong><strong></strong></td><td><strong>Kategori Kluster</strong><strong></strong></td></tr>, <tr><td>1</td><td>Jalan Faizal</td><td>Johor</td><td>Tempat Kerja</td></tr>, <tr><td>2</td><td>Jalan Satria</td><td>Johor</td><td>Tempat Kerja</td></tr>, <tr><td>3</td><td>Jalan Dewani Satu</td><td>Johor</td><td>Tempat Kerja</td></tr>, <tr><td>4</td><td>Industri Peramu Jaya</td><td>Pahang</td><td>Tempat Kerja</td></tr>, <tr><td>5</td><td>Taman Mahkota Impian</td><td>WP Labuan</td><td>Tempat Kerja</td></tr>, <tr><td>6</td><td>Jalan Pakat</td><td>Selangor</td><td>Komuniti</td></tr>, <tr><td>7</td><td>Indah Riang</td><td>Sarawak</td><td>Komuniti</td></tr>, <tr><td>8</td><td>Kampung Kemansur</td><td>Pahang</td><td>Komuniti</td></tr>, <tr><td>9</td><td>Jalan Kejora</td><td>Melaka</td><td>Kumpulan Berisiko Tinggi</td></tr>]\n"
          ],
          "name": "stdout"
        }
      ]
    },
    {
      "cell_type": "code",
      "metadata": {
        "id": "-KLcMhasTlic"
      },
      "source": [
        "import csv\r\n",
        "\r\n",
        "with open('kluster baharu januari 21-28.csv', mode='w') as the_file:\r\n",
        "    writer = csv.writer(the_file, delimiter=',', quotechar='\"', quoting=csv.QUOTE_ALL)\r\n",
        "\r\n",
        "    for url in list_urls:\r\n",
        "      response = requests.get(url)\r\n",
        "      soup = BeautifulSoup(response.text)\r\n",
        "      rows = soup.find('table').find('tbody').findAll('tr')\r\n",
        "  \r\n",
        "      for i in range (len(rows)):\r\n",
        "        cols = rows[i].findAll('td')\r\n",
        "        output_row = []\r\n",
        "        for c in cols:\r\n",
        "          output_row.append(c.text)\r\n",
        "        writer.writerow(output_row)\r\n"
      ],
      "execution_count": 27,
      "outputs": []
    }
  ]
}